{
 "cells": [
  {
   "cell_type": "code",
   "execution_count": 1,
   "id": "5a5e4f2d-4616-4ee8-aead-c871cef3d100",
   "metadata": {},
   "outputs": [],
   "source": [
    "#1Wat are data structures, and why are they important?\n",
    "##ANS>>>Data structures are specialized formats used for organizing, processing, and storing data.\n",
    "#>>They define how data is stored, accessed, and modified efficiently. \n",
    "#>>Data structures are important because they allow for efficient data retrieval, manipulation, and storage, making programs faster and more efficient."
   ]
  },
  {
   "cell_type": "code",
   "execution_count": 4,
   "id": "69347753-4091-461b-9003-a54af4cde66c",
   "metadata": {},
   "outputs": [
    {
     "name": "stdout",
     "output_type": "stream",
     "text": [
      "[10, 2, 3]\n"
     ]
    }
   ],
   "source": [
    "# 2Explain the difference between mutable and immutable data types with examples?\n",
    "#ANS>> Mutable data types are types whose values can be changed after they are created.\n",
    "\n",
    "#Example: list, dict, set\n",
    "#You can modify their contents after the object is created.\n",
    "my_list = [1, 2, 3]\n",
    "my_list[0] = 10  # Mutable, the list is modified.\n",
    "print(my_list)  # Output: [10, 2, 3]\n",
    "\n"
   ]
  },
  {
   "cell_type": "code",
   "execution_count": 5,
   "id": "9dc16f22-185f-4365-8724-7ee3fa069e69",
   "metadata": {},
   "outputs": [
    {
     "ename": "TypeError",
     "evalue": "'tuple' object does not support item assignment",
     "output_type": "error",
     "traceback": [
      "\u001b[1;31m---------------------------------------------------------------------------\u001b[0m",
      "\u001b[1;31mTypeError\u001b[0m                                 Traceback (most recent call last)",
      "Cell \u001b[1;32mIn[5], line 6\u001b[0m\n\u001b[0;32m      1\u001b[0m \u001b[38;5;66;03m##Immutable data types are types whose values cannot be changed once created.\u001b[39;00m\n\u001b[0;32m      2\u001b[0m \n\u001b[0;32m      3\u001b[0m \u001b[38;5;66;03m#Example: int, float, str, tuple\u001b[39;00m\n\u001b[0;32m      4\u001b[0m \u001b[38;5;66;03m#You cannot modify the value of an object after it's created.\u001b[39;00m\n\u001b[0;32m      5\u001b[0m my_tuple \u001b[38;5;241m=\u001b[39m (\u001b[38;5;241m1\u001b[39m, \u001b[38;5;241m2\u001b[39m, \u001b[38;5;241m3\u001b[39m)\n\u001b[1;32m----> 6\u001b[0m my_tuple[\u001b[38;5;241m0\u001b[39m] \u001b[38;5;241m=\u001b[39m \u001b[38;5;241m10\u001b[39m\n",
      "\u001b[1;31mTypeError\u001b[0m: 'tuple' object does not support item assignment"
     ]
    }
   ],
   "source": [
    "##Immutable data types are types whose values cannot be changed once created.\n",
    "\n",
    "#Example: int, float, str, tuple\n",
    "#You cannot modify the value of an object after it's created.\n",
    "my_tuple = (1, 2, 3)\n",
    "my_tuple[0] = 10 "
   ]
  },
  {
   "cell_type": "code",
   "execution_count": 6,
   "id": "645c2e25-2621-4ece-86e3-1bbe957cbe94",
   "metadata": {},
   "outputs": [],
   "source": [
    "#3 What are the main differences between lists and tuples in Python?\n",
    "#ANS >.Lists:\n",
    "#Mutable: You can change the values after creation.\n",
    "#Syntax: Defined using square brackets ([]).\n",
    "#Example: my_list = [1, 2, 3]\n",
    "\n",
    "#Tuples:\n",
    "#Immutable: You cannot change values after creation.\n",
    "#Syntax: Defined using parentheses (()).\n",
    "#Example: my_tuple = (1, 2, 3)"
   ]
  },
  {
   "cell_type": "code",
   "execution_count": 7,
   "id": "c923e551-2c06-4ff8-ac97-b8f908b89aaf",
   "metadata": {},
   "outputs": [],
   "source": [
    "#4 Describe how dictionaries store data?\n",
    "## ANS >>A dictionary in Python is a collection of key-value pairs. Each key is mapped to a value, and these key-value pairs are stored in a hash table internally.\n",
    "#Keys are unique and immutable.\n",
    "#Values can be of any data type (mutable or immutable)."
   ]
  },
  {
   "cell_type": "code",
   "execution_count": 9,
   "id": "b502f8f9-28c2-4c02-adf2-98fb71dc3e29",
   "metadata": {},
   "outputs": [],
   "source": [
    "#5 Why might you use a set instead of a list in Python?\n",
    "#ans>>> Advantages of sets over lists:\n",
    "#Uniqueness: Sets automatically enforce uniqueness, so duplicates are not allowed.\n",
    "#Fast Membership Test: Sets provide O(1) average time complexity for checking if an element exists, while lists have O(n) complexity.\n",
    "#No order: Since sets are unordered, they do not guarantee any specific order of elements.\n",
    "my_set = {1, 2, 3}\n",
    "my_set.add(4)  # Adding an element\n",
    "my_set.add(2)  # Duplicate element, not added"
   ]
  },
  {
   "cell_type": "code",
   "execution_count": null,
   "id": "a2e2e914-5cd7-476f-b81f-f040dd0ca84c",
   "metadata": {},
   "outputs": [],
   "source": [
    "#6 E What is a string in Python, and how is it different from a list?\n",
    "#ans>> A string in Python is an immutable sequence of characters.\n",
    "\n",
    "#Unlike a list, a string is immutable, meaning you cannot change its individual characters once it's created.\n",
    "#Strings are sequences, similar to lists, but they are optimized for handling text data"
   ]
  },
  {
   "cell_type": "code",
   "execution_count": null,
   "id": "d71422e6-047a-486e-9c85-8f5342536245",
   "metadata": {},
   "outputs": [],
   "source": [
    "#7  How do tuples ensure data integrity in Python?\n",
    "#ans>> uples ensure data integrity by being immutable. Since their elements cannot be changed after creation, tuples prevent accidental modification of the data.\n",
    "#This makes them useful in scenarios where you need to protect data from being altered, such as in function arguments, or as keys in a dictionary."
   ]
  },
  {
   "cell_type": "code",
   "execution_count": null,
   "id": "b84923c1-11c2-447d-b491-09a7162b63fc",
   "metadata": {},
   "outputs": [],
   "source": [
    "#8 What is a hash table, and how does it relate to dictionaries in Python?\n",
    "#ans>>A hash table is a data structure that stores key-value pairs, where each key is mapped to a value using a hash function. In Python, dictionaries are implemented using hash tables.\n",
    "\n",
    "#The hash function takes the key and converts it into an integer index, which is used to access the corresponding value in an array (bucket).\n",
    "\n"
   ]
  },
  {
   "cell_type": "code",
   "execution_count": null,
   "id": "473e592f-0356-406a-b47e-2017a8b50941",
   "metadata": {},
   "outputs": [],
   "source": [
    "#9 Can lists contain different data types in Python?\n",
    "#ans>> Yes, lists in Python can contain elements of different data types. \n",
    "#This is one of the strengths of Python lists, as they are very flexible. \n",
    "my_list = [1, \"apple\", 3.14, [1, 2, 3]]"
   ]
  },
  {
   "cell_type": "code",
   "execution_count": null,
   "id": "c8b0f184-0eae-41fa-af9d-c92df0e8ed7c",
   "metadata": {},
   "outputs": [],
   "source": [
    "#10 Explain why strings are immutable in Python?\n",
    "#ans>> Strings are immutable in Python for several reasons:\n",
    "\n",
    "#Efficiency: Immutable strings can be optimized by the interpreter, and the same string can be shared in memory without the risk of accidental modification.\n",
    "#Hashing: Since strings can be used as keys in dictionaries and sets, they must be immutable to maintain their integrity as a hashable object.\n",
    "#Safety: Immutability helps to avoid unexpected side effects when strings are passed around in programs. Once created, strings cannot be changed, ensuring that the original string remains unchanged.\n"
   ]
  },
  {
   "cell_type": "code",
   "execution_count": 1,
   "id": "b57b6eb3-a7fc-4b51-92da-436ea61a3691",
   "metadata": {},
   "outputs": [],
   "source": [
    "#11 What advantages do dictionaries offer over lists for certain tasks?\n",
    "## ans>> Dictionaries offer several advantages over lists\n",
    "#Efficient lookups: Dictionaries provide constant-time average time complexity (O(1)) for key-based lookups, unlike lists, which require linear time (O(n)) to search for an item.\n",
    "#Key-value pairs: Dictionaries store data as key-value pairs, which is useful when you need to associate a specific value with a unique identifier (key).\n",
    "#No need for sorting: With a dictionary, you can directly access data using a unique key, whereas with lists, you may need to search or sort to retrieve specific elements"
   ]
  },
  {
   "cell_type": "code",
   "execution_count": null,
   "id": "93ba9f41-a8cc-48a9-ac73-3c0b7df204c3",
   "metadata": {},
   "outputs": [],
   "source": [
    "## 12 Describe a scenario where using a tuple would be preferable over a list.\n",
    "#ans>> Tuples are immutable, meaning their elements cannot be modified after creation. \n",
    "#This makes them suitable for scenarios where data integrity and protection are important.\n",
    "#Example: When storing coordinates (latitude, longitude) in a geographic system,\n",
    "#>a tuple would be used to ensure the data cannot be accidentally changed after it is set. "
   ]
  },
  {
   "cell_type": "code",
   "execution_count": 2,
   "id": "10af20cb-1a2a-4539-a712-1082dec9f074",
   "metadata": {},
   "outputs": [
    {
     "data": {
      "text/plain": [
       "{1, 2, 'Ajay', 'ajay'}"
      ]
     },
     "execution_count": 2,
     "metadata": {},
     "output_type": "execute_result"
    }
   ],
   "source": [
    "#13  How do sets handle duplicate values in Python?\n",
    "# Sets automatically remove duplicates. When adding an element to a set, if the element is already present,\n",
    "#it will not be added again. This ensures that sets only contain unique elements.\n",
    "#example\n",
    "s= {1, 2, 1, 2, 2, \"Ajay\",\"Ajay\",\"Ajay\", \"ajay\", \"ajay\"}\n",
    "s "
   ]
  },
  {
   "cell_type": "code",
   "execution_count": 3,
   "id": "eb4705ad-35f1-4f7d-a699-d37b23ed7aec",
   "metadata": {},
   "outputs": [],
   "source": [
    "#14 How does the “in” keyword work differently for lists and dictionaries?\n",
    "#ans>> For lists: The in keyword checks if an element exists in the list.\n",
    "#It returns True if the element is found and False if not. The operation is O(n) in time complexity.\n",
    "##For dictionaries: The in keyword checks if a key exists in the dictionary, not the value.\n",
    "#It returns True if the key is found and False if not. This is typically O(1) in time complexity due to the hash-based implementation of dictionaries."
   ]
  },
  {
   "cell_type": "code",
   "execution_count": null,
   "id": "a7e3a437-0092-4404-91e5-c89055508f40",
   "metadata": {},
   "outputs": [],
   "source": [
    "#15 Can you modify the elements of a tuple? Explain why or why not?\n",
    "#Ans>> No, tuples are immutable. Once a tuple is created, its elements cannot be changed, added, or removed. This is by design, to ensure the integrity of the data stored in the tuple. \n",
    "#If you need to modify data, you would need to convert the tuple to a list,"
   ]
  },
  {
   "cell_type": "code",
   "execution_count": 4,
   "id": "b5a6c071-4a74-4dfe-b88c-87b24687da8d",
   "metadata": {},
   "outputs": [],
   "source": [
    "#16 What is a nested dictionary, and give an example of its use case?\n",
    "#Ans>> A nested dictionary is a dictionary where the value of one or more keys is itself another dictionary. \n",
    "#This allows for representing hierarchical data structures.\n",
    "#Example:A dictionary representing a company's departments and employees,\n",
    "company = {'Sales': {'employee1': 'Alice','employee2': 'Bob'},'HR': {'employee1': 'Charlie','employee2': 'David'}}"
   ]
  },
  {
   "cell_type": "code",
   "execution_count": null,
   "id": "0aa41906-6adf-4f87-a24b-9d927f3dc585",
   "metadata": {},
   "outputs": [],
   "source": [
    "#17 Describe the time complexity of accessing elements in a dictionary?\n",
    "#Ans>>Accessing elements in a dictionary by key is generally O(1) on average, \n",
    "#meaning it takes constant time to retrieve a value. However, in the worst case (due to hash collisions), \n",
    "#it can degrade to O(n), but this is rare in practice.\n",
    "\n"
   ]
  },
  {
   "cell_type": "code",
   "execution_count": null,
   "id": "f1f74ab0-9b5c-4475-b01c-bd436042ef82",
   "metadata": {},
   "outputs": [],
   "source": [
    "#18  In what situations are lists preferred over dictionaries?\n",
    "#Ans> Ordered data: If you need to preserve the order of elements, lists are preferred, as dictionaries were unordered until Python 3.7 (though they now maintain insertion order).\n",
    "#When the index position is important: Lists are useful when the position of elements matters, as each element in a list has an index that you can use to access it.\n",
    "#Small datasets: If the dataset is small and you do not need key-value pair functionality, a list can be simpler and more straightforward.\n"
   ]
  },
  {
   "cell_type": "code",
   "execution_count": null,
   "id": "b453eb22-728c-4d0c-ad38-9d25b7899152",
   "metadata": {},
   "outputs": [],
   "source": [
    "##19 Why are dictionaries considered unordered, and how does that affect data retrieval?\n",
    "#Ans> Dictionaries are considered unordered because, prior to Python 3.7, the insertion order of key-value pairs was not guaranteed. Starting from Python 3.7, dictionaries maintain insertion order,\n",
    "#but they are still conceptually unordered because their primary purpose is efficient key-based access, not order.\n",
    "\n",
    "#Effect on retrieval: The unordered nature does not affect the time complexity of data retrieval, \n",
    "#but it means that the order in which items are returned when iterating over a dictionary may not be the same as the order in which they were added"
   ]
  },
  {
   "cell_type": "code",
   "execution_count": 5,
   "id": "913f75b7-51a7-4c31-953a-8bb82d534a78",
   "metadata": {},
   "outputs": [],
   "source": [
    "#20  Explain the difference between a list and a dictionary in terms of data retrieval?\n",
    "#Ans> >>List: Data is retrieved using an index. The index represents the position of the element in the list, \n",
    "#and accessing an element requires knowing the index number (e.g., my_list[2]).\n",
    "#>>>Dictionary: Data is retrieved using a key. A key-value pair is used for storage, \n",
    "#and elements are accessed by providing the key (e.g., my_dict['key']).\n",
    "\n",
    "\n",
    "#In a list, you can only retrieve an element by its position, whereas in a dictionary, you retrieve it based on a unique identifier (the key)."
   ]
  },
  {
   "cell_type": "code",
   "execution_count": 6,
   "id": "82f72ad3-ca12-4e57-ab85-a8df663c0627",
   "metadata": {},
   "outputs": [],
   "source": [
    "\n",
    "############      Practical QUESTION   ##########\n"
   ]
  },
  {
   "cell_type": "code",
   "execution_count": 7,
   "id": "30f86735-46f1-402b-9212-672c4962687f",
   "metadata": {},
   "outputs": [
    {
     "name": "stdout",
     "output_type": "stream",
     "text": [
      "SURAJ GUPTA\n"
     ]
    }
   ],
   "source": [
    "#1 Write a code to create a string with your name and print it?\n",
    "my_name = \"SURAJ GUPTA\"\n",
    "print(my_name)"
   ]
  },
  {
   "cell_type": "code",
   "execution_count": 8,
   "id": "8721b33a-9999-47bb-a196-c4ce3955ea41",
   "metadata": {},
   "outputs": [
    {
     "data": {
      "text/plain": [
       "11"
      ]
     },
     "execution_count": 8,
     "metadata": {},
     "output_type": "execute_result"
    }
   ],
   "source": [
    "##Write a code to find the length of the string \"Hello World\"?\n",
    "st= \"Hello World\"\n",
    "len(st)\n"
   ]
  },
  {
   "cell_type": "code",
   "execution_count": 10,
   "id": "e1a75922-8876-4868-b1a4-b039781831c4",
   "metadata": {},
   "outputs": [
    {
     "data": {
      "text/plain": [
       "'Pyt'"
      ]
     },
     "execution_count": 10,
     "metadata": {},
     "output_type": "execute_result"
    }
   ],
   "source": [
    "#3 Write a code to slice the first 3 characters from the string \"Python Programming\" ?\n",
    "A= \"Python Programming\"\n",
    "A[:3]"
   ]
  },
  {
   "cell_type": "code",
   "execution_count": 11,
   "id": "28c31b56-1c8b-45e1-9891-75e472739ecf",
   "metadata": {},
   "outputs": [
    {
     "data": {
      "text/plain": [
       "'HELLO'"
      ]
     },
     "execution_count": 11,
     "metadata": {},
     "output_type": "execute_result"
    }
   ],
   "source": [
    "#4 Write a code to convert the string \"hello\" to uppercase\n",
    "string= \"hello\"\n",
    "string.upper()"
   ]
  },
  {
   "cell_type": "code",
   "execution_count": 12,
   "id": "7d5842c0-8c75-4a40-b162-112c2389200c",
   "metadata": {},
   "outputs": [
    {
     "data": {
      "text/plain": [
       "'I like orange'"
      ]
     },
     "execution_count": 12,
     "metadata": {},
     "output_type": "execute_result"
    }
   ],
   "source": [
    "#5  Write a code to replace the word \"apple\" with \"orange\" in the string \"I like apple\"?\n",
    "string=\"I like apple\"\n",
    "string.replace(\"apple\", \"orange\")"
   ]
  },
  {
   "cell_type": "code",
   "execution_count": 13,
   "id": "f2ac4248-6227-4c0e-9737-006bde800e3a",
   "metadata": {},
   "outputs": [
    {
     "name": "stdout",
     "output_type": "stream",
     "text": [
      "[1, 2, 3, 4, 5]\n"
     ]
    }
   ],
   "source": [
    "#6 Write a code to create a list with numbers 1 to 5 and print it?\n",
    "my_list = [1, 2, 3, 4, 5]\n",
    "print(my_list)"
   ]
  },
  {
   "cell_type": "code",
   "execution_count": 15,
   "id": "0ccf8855-f524-444d-b78a-b0da47a3a26f",
   "metadata": {},
   "outputs": [
    {
     "data": {
      "text/plain": [
       "[1, 2, 3, 4, 10]"
      ]
     },
     "execution_count": 15,
     "metadata": {},
     "output_type": "execute_result"
    }
   ],
   "source": [
    "#7 Write a code to append the number 10 to the list [1, 2, 3, 4]\n",
    "my_list = [1, 2, 3, 4]\n",
    "my_list.append(10)\n",
    "my_list"
   ]
  },
  {
   "cell_type": "code",
   "execution_count": 16,
   "id": "f76b0269-b620-4713-bbca-29f0cb5a4425",
   "metadata": {},
   "outputs": [
    {
     "data": {
      "text/plain": [
       "[1, 2, 4, 5]"
      ]
     },
     "execution_count": 16,
     "metadata": {},
     "output_type": "execute_result"
    }
   ],
   "source": [
    "#8 Write a code to remove the number 3 from the list [1, 2, 3, 4, 5]?\n",
    "my_list = [1, 2, 3, 4, 5]\n",
    "my_list.remove(3)\n",
    "my_list\n"
   ]
  },
  {
   "cell_type": "code",
   "execution_count": 18,
   "id": "339eb5cf-be7f-448b-adf2-3d0b51e49f98",
   "metadata": {},
   "outputs": [
    {
     "data": {
      "text/plain": [
       "'b'"
      ]
     },
     "execution_count": 18,
     "metadata": {},
     "output_type": "execute_result"
    }
   ],
   "source": [
    "# 9 Write a code to access the second element in the list ['a', 'b', 'c', 'd']?\n",
    "lis= ['a', 'b', 'c', 'd']\n",
    "lis[1]"
   ]
  },
  {
   "cell_type": "code",
   "execution_count": 22,
   "id": "7e514dc9-1d6e-419f-a46f-05bffdb24968",
   "metadata": {},
   "outputs": [
    {
     "name": "stdout",
     "output_type": "stream",
     "text": [
      "[50, 40, 30, 20, 10]\n"
     ]
    }
   ],
   "source": [
    "#10  Write a code to reverse the list [10, 20, 30, 40, 50].\n",
    "lis=  [10, 20, 30, 40, 50]\n",
    "lis.reverse()\n",
    "print(lis)\n"
   ]
  },
  {
   "cell_type": "code",
   "execution_count": 23,
   "id": "59f8dbd8-39b3-414b-b960-039fddb4b726",
   "metadata": {},
   "outputs": [
    {
     "data": {
      "text/plain": [
       "(10, 20, 30)"
      ]
     },
     "execution_count": 23,
     "metadata": {},
     "output_type": "execute_result"
    }
   ],
   "source": [
    "#11  Write a code to create a tuple with the elements 10, 20, 30 and print it.\n",
    "t= (10, 20, 30)\n",
    "t"
   ]
  },
  {
   "cell_type": "code",
   "execution_count": 24,
   "id": "06ba6396-5d45-4159-8bc3-e52c122a2aef",
   "metadata": {},
   "outputs": [
    {
     "data": {
      "text/plain": [
       "'apple'"
      ]
     },
     "execution_count": 24,
     "metadata": {},
     "output_type": "execute_result"
    }
   ],
   "source": [
    "#12 Write a code to access the first element of the tuple ('apple', 'banana', 'cherry').\n",
    "t=('apple', 'banana', 'cherry')\n",
    "t[0]"
   ]
  },
  {
   "cell_type": "code",
   "execution_count": 25,
   "id": "e80fdeae-330d-4df9-a8f4-39e689d6583d",
   "metadata": {},
   "outputs": [
    {
     "data": {
      "text/plain": [
       "3"
      ]
     },
     "execution_count": 25,
     "metadata": {},
     "output_type": "execute_result"
    }
   ],
   "source": [
    "#13 Write a code to count how many times the number 2 appears in the tuple (1, 2, 3, 2, 4, 2).\n",
    "t= (1, 2, 3, 2, 4, 2)\n",
    "t.count(2)"
   ]
  },
  {
   "cell_type": "code",
   "execution_count": 27,
   "id": "6f8696dc-1fc5-458b-ae2a-64c5855f7256",
   "metadata": {},
   "outputs": [
    {
     "data": {
      "text/plain": [
       "1"
      ]
     },
     "execution_count": 27,
     "metadata": {},
     "output_type": "execute_result"
    }
   ],
   "source": [
    "# 14  Write a code to find the index of the element \"cat\" in the tuple ('dog', 'cat', 'rabbit').\n",
    "t= ('dog', 'cat', 'rabbit')\n",
    "t.index(\"cat\")\n"
   ]
  },
  {
   "cell_type": "code",
   "execution_count": 28,
   "id": "200b34f0-5542-451f-b773-f3f508e5d65b",
   "metadata": {},
   "outputs": [
    {
     "data": {
      "text/plain": [
       "True"
      ]
     },
     "execution_count": 28,
     "metadata": {},
     "output_type": "execute_result"
    }
   ],
   "source": [
    "# 15 Write a code to check if the element \"banana\" is in the tuple \n",
    "t= ('apple', 'orange', 'banana')\n",
    "\"banana\" in t"
   ]
  },
  {
   "cell_type": "code",
   "execution_count": 30,
   "id": "d5970ea3-a267-4f56-8a31-6c8ea0e2ccbe",
   "metadata": {},
   "outputs": [
    {
     "name": "stdout",
     "output_type": "stream",
     "text": [
      "{1, 2, 3, 4, 5}\n"
     ]
    }
   ],
   "source": [
    "#16 Write a code to create a set with the elements 1, 2, 3, 4, 5 and print it.\n",
    "sets= {1, 2, 3, 4, 5}\n",
    "print(sets)"
   ]
  },
  {
   "cell_type": "code",
   "execution_count": 32,
   "id": "26606289-b684-4b69-8392-e3ca7fec31da",
   "metadata": {},
   "outputs": [
    {
     "data": {
      "text/plain": [
       "{1, 2, 3, 4, 6}"
      ]
     },
     "execution_count": 32,
     "metadata": {},
     "output_type": "execute_result"
    }
   ],
   "source": [
    "#17  Write a code to add the element 6 to the set {1, 2, 3, 4}.\n",
    "s= {1, 2, 3, 4}\n",
    "s.add(6)\n",
    "s"
   ]
  },
  {
   "cell_type": "code",
   "execution_count": 33,
   "id": "03bbfc1d-9524-49ac-b025-63efb61b16b5",
   "metadata": {},
   "outputs": [
    {
     "data": {
      "text/plain": [
       "(10, 20, 30)"
      ]
     },
     "execution_count": 33,
     "metadata": {},
     "output_type": "execute_result"
    }
   ],
   "source": [
    "#18 Write a code to create a tuple with the elements 10, 20, 30 and print it.\n",
    "t= (10, 20, 30)\n",
    "t"
   ]
  },
  {
   "cell_type": "code",
   "execution_count": 34,
   "id": "009877fb-7e23-4fc9-9464-b42c938d0cfd",
   "metadata": {},
   "outputs": [
    {
     "data": {
      "text/plain": [
       "'apple'"
      ]
     },
     "execution_count": 34,
     "metadata": {},
     "output_type": "execute_result"
    }
   ],
   "source": [
    "#19 Write a code to access the first element of the tuple ('apple', 'banana', 'cherry').\n",
    "t=('apple', 'banana', 'cherry')\n",
    "t[0]"
   ]
  },
  {
   "cell_type": "code",
   "execution_count": 35,
   "id": "f56e9f3a-84a7-4d6b-8418-aa7e9d5a8e4f",
   "metadata": {},
   "outputs": [
    {
     "data": {
      "text/plain": [
       "3"
      ]
     },
     "execution_count": 35,
     "metadata": {},
     "output_type": "execute_result"
    }
   ],
   "source": [
    "#20 Write a code to count how many times the number 2 appears in the tuple (1, 2, 3, 2, 4, 2).\n",
    "t= (1, 2, 3, 2, 4, 2)\n",
    "t.count(2)"
   ]
  },
  {
   "cell_type": "code",
   "execution_count": 36,
   "id": "7822b47d-bf76-4526-9105-fff5ebe5af6b",
   "metadata": {},
   "outputs": [
    {
     "data": {
      "text/plain": [
       "1"
      ]
     },
     "execution_count": 36,
     "metadata": {},
     "output_type": "execute_result"
    }
   ],
   "source": [
    "#21  Write a code to find the index of the element \"cat\" in the tuple ('dog', 'cat', 'rabbit').\n",
    "t= ('dog', 'cat', 'rabbit')\n",
    "t.index(\"cat\")"
   ]
  },
  {
   "cell_type": "code",
   "execution_count": 37,
   "id": "fc659dd4-9e19-4609-8f98-cce7fa9a0d49",
   "metadata": {},
   "outputs": [
    {
     "data": {
      "text/plain": [
       "True"
      ]
     },
     "execution_count": 37,
     "metadata": {},
     "output_type": "execute_result"
    }
   ],
   "source": [
    "#22 Write a code to check if the element \"banana\" is in the tuple \n",
    "t= ('apple', 'orange', 'banana')\n",
    "\"banana\" in t"
   ]
  },
  {
   "cell_type": "code",
   "execution_count": 38,
   "id": "cdfe08f7-36cf-4b14-b3ef-48f463c2f873",
   "metadata": {},
   "outputs": [
    {
     "name": "stdout",
     "output_type": "stream",
     "text": [
      "{1, 2, 3, 4, 5}\n"
     ]
    }
   ],
   "source": [
    "#23 Write a code to create a set with the elements 1, 2, 3, 4, 5 and print it.\n",
    "sets= {1, 2, 3, 4, 5}\n",
    "print(sets)"
   ]
  },
  {
   "cell_type": "code",
   "execution_count": 39,
   "id": "d84f52ea-3bb5-4b88-87fc-451d5a0fec25",
   "metadata": {},
   "outputs": [
    {
     "data": {
      "text/plain": [
       "{1, 2, 3, 4, 6}"
      ]
     },
     "execution_count": 39,
     "metadata": {},
     "output_type": "execute_result"
    }
   ],
   "source": [
    "#24 Write a code to add the element 6 to the set {1, 2, 3, 4}.\n",
    "s= {1, 2, 3, 4}\n",
    "s.add(6)\n",
    "s"
   ]
  },
  {
   "cell_type": "code",
   "execution_count": null,
   "id": "d29e330a-1936-47ea-a4dc-ce1264c33ea0",
   "metadata": {},
   "outputs": [],
   "source": []
  }
 ],
 "metadata": {
  "kernelspec": {
   "display_name": "Python 3 (ipykernel)",
   "language": "python",
   "name": "python3"
  },
  "language_info": {
   "codemirror_mode": {
    "name": "ipython",
    "version": 3
   },
   "file_extension": ".py",
   "mimetype": "text/x-python",
   "name": "python",
   "nbconvert_exporter": "python",
   "pygments_lexer": "ipython3",
   "version": "3.12.7"
  }
 },
 "nbformat": 4,
 "nbformat_minor": 5
}
